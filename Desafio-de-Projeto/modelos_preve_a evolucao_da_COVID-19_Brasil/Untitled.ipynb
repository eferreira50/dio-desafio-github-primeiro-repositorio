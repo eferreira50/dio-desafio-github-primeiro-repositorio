{
 "cells": [
  {
   "cell_type": "markdown",
   "id": "a9602a27",
   "metadata": {},
   "source": [
    "# Analisando dados da COVID19"
   ]
  },
  {
   "cell_type": "code",
   "execution_count": null,
   "id": "b20b0097",
   "metadata": {},
   "outputs": [],
   "source": [
    "import pandas as pd"
   ]
  },
  {
   "cell_type": "markdown",
   "id": "905b794f",
   "metadata": {},
   "source": [
    "## conectar base de dados"
   ]
  },
  {
   "cell_type": "code",
   "execution_count": null,
   "id": "d7ff23be",
   "metadata": {},
   "outputs": [],
   "source": [
    "df = pd.read_csv(\"http://localhost:8888/edit/Desafio-de-Projeto/modelos_preve_a%20evolucao_da_COVID-19_Brasil/covid_19_clean_complete.csv\")\n",
    "df"
   ]
  }
 ],
 "metadata": {
  "kernelspec": {
   "display_name": "Python 3 (ipykernel)",
   "language": "python",
   "name": "python3"
  },
  "language_info": {
   "codemirror_mode": {
    "name": "ipython",
    "version": 3
   },
   "file_extension": ".py",
   "mimetype": "text/x-python",
   "name": "python",
   "nbconvert_exporter": "python",
   "pygments_lexer": "ipython3",
   "version": "3.9.13"
  }
 },
 "nbformat": 4,
 "nbformat_minor": 5
}
