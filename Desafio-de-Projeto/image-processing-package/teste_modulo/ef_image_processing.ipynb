{
 "cells": [
  {
   "cell_type": "code",
   "execution_count": null,
   "id": "73af1dff",
   "metadata": {},
   "outputs": [],
   "source": [
    "#instalando o módulo\n",
    "!pip install ef_image_processing"
   ]
  },
  {
   "cell_type": "code",
   "execution_count": null,
   "id": "946fc1a4",
   "metadata": {},
   "outputs": [],
   "source": [
    "#importando io, plot, combination, transformation\n",
    "from ef_image_processing.utils import io, plot\n",
    "from ef_image_processing.ef_processing import combination, transformation"
   ]
  },
  {
   "cell_type": "code",
   "execution_count": null,
   "id": "f3ccb3d1",
   "metadata": {},
   "outputs": [],
   "source": [
    "#carregando imagem\n",
    "image1=io.read_image(r\"C:\\Intel\\imagem.png\")\n",
    "image2=io.read_image(r\"C:\\Intel\\referencia.png\")"
   ]
  },
  {
   "cell_type": "code",
   "execution_count": null,
   "id": "269a60f1",
   "metadata": {},
   "outputs": [],
   "source": [
    "#exibindo as imagem originais\n",
    "plot.plot_image(image1)\n",
    "plot.plot_image(image2)"
   ]
  },
  {
   "cell_type": "code",
   "execution_count": null,
   "id": "931930e7",
   "metadata": {},
   "outputs": [],
   "source": [
    "#fazendo a combinação da image1 com a pigmentação da image2 gerando uma terceira\n",
    "result_image=combination.transfer_histogram(image1, image2)"
   ]
  },
  {
   "cell_type": "code",
   "execution_count": null,
   "id": "cb9d8091",
   "metadata": {},
   "outputs": [],
   "source": [
    "#plotando as 3 imagens\n",
    "plot.plot_result(image1, image2, result_image)"
   ]
  }
 ],
 "metadata": {
  "kernelspec": {
   "display_name": "Python 3 (ipykernel)",
   "language": "python",
   "name": "python3"
  },
  "language_info": {
   "codemirror_mode": {
    "name": "ipython",
    "version": 3
   },
   "file_extension": ".py",
   "mimetype": "text/x-python",
   "name": "python",
   "nbconvert_exporter": "python",
   "pygments_lexer": "ipython3",
   "version": "3.9.13"
  }
 },
 "nbformat": 4,
 "nbformat_minor": 5
}
